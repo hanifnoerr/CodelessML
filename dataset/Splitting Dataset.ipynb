{
 "cells": [
  {
   "cell_type": "markdown",
   "id": "c80939e0",
   "metadata": {},
   "source": [
    "### Dataset used for Classification Task:\n",
    "- Aeberhard,Stefan & Forina,M.. (1991). Wine. UCI Machine Learning Repository. https://doi.org/10.24432/C5PC7J.\n",
    "### Dataset used for Regression Task:\n",
    "- Schlimmer,Jeffrey. (1987). Automobile. UCI Machine Learning Repository. https://doi.org/10.24432/C5B01C."
   ]
  },
  {
   "cell_type": "code",
   "execution_count": 1,
   "id": "880090b8",
   "metadata": {},
   "outputs": [],
   "source": [
    "import pandas as pd\n",
    "from sklearn.model_selection import train_test_split"
   ]
  },
  {
   "cell_type": "markdown",
   "id": "47fce4fd",
   "metadata": {},
   "source": [
    "#### Wine Dataset"
   ]
  },
  {
   "cell_type": "code",
   "execution_count": 2,
   "id": "560c6e49",
   "metadata": {},
   "outputs": [
    {
     "name": "stdout",
     "output_type": "stream",
     "text": [
      "<class 'pandas.core.frame.DataFrame'>\n",
      "RangeIndex: 178 entries, 0 to 177\n",
      "Data columns (total 14 columns):\n",
      " #   Column                        Non-Null Count  Dtype  \n",
      "---  ------                        --------------  -----  \n",
      " 0   class                         178 non-null    int64  \n",
      " 1   Alcohol                       178 non-null    float64\n",
      " 2   Malicacid                     178 non-null    float64\n",
      " 3   Ash                           178 non-null    float64\n",
      " 4   Alcalinity_of_ash             178 non-null    float64\n",
      " 5   Magnesium                     178 non-null    int64  \n",
      " 6   Total_phenols                 178 non-null    float64\n",
      " 7   Flavanoids                    178 non-null    float64\n",
      " 8   Nonflavanoid_phenols          178 non-null    float64\n",
      " 9   Proanthocyanins               178 non-null    float64\n",
      " 10  Color_intensity               178 non-null    float64\n",
      " 11  Hue                           178 non-null    float64\n",
      " 12  0D280_0D315_of_diluted_wines  178 non-null    float64\n",
      " 13  Proline                       178 non-null    int64  \n",
      "dtypes: float64(11), int64(3)\n",
      "memory usage: 19.6 KB\n"
     ]
    }
   ],
   "source": [
    "wine = pd.read_csv('wine.csv')\n",
    "wine.info()"
   ]
  },
  {
   "cell_type": "code",
   "execution_count": 3,
   "id": "ad49bbe4",
   "metadata": {},
   "outputs": [
    {
     "data": {
      "text/plain": [
       "((142, 14), (36, 14))"
      ]
     },
     "execution_count": 3,
     "metadata": {},
     "output_type": "execute_result"
    }
   ],
   "source": [
    "wine_train, wine_test = train_test_split(wine, test_size=0.2, random_state=77, stratify=wine['class'])\n",
    "wine_train.shape, wine_test.shape"
   ]
  },
  {
   "cell_type": "code",
   "execution_count": 4,
   "id": "50c8f6a0",
   "metadata": {},
   "outputs": [],
   "source": [
    "#save as csv\n",
    "wine_train.to_csv(\"wine_train.csv\", encoding='utf-8', index=False)\n",
    "wine_test.to_csv(\"wine_test.csv\", encoding='utf-8', index=False)"
   ]
  },
  {
   "cell_type": "markdown",
   "id": "3487cc0c",
   "metadata": {},
   "source": [
    "#### Automobile"
   ]
  },
  {
   "cell_type": "code",
   "execution_count": 5,
   "id": "b3f3f891",
   "metadata": {},
   "outputs": [
    {
     "name": "stdout",
     "output_type": "stream",
     "text": [
      "<class 'pandas.core.frame.DataFrame'>\n",
      "RangeIndex: 205 entries, 0 to 204\n",
      "Data columns (total 26 columns):\n",
      " #   Column             Non-Null Count  Dtype  \n",
      "---  ------             --------------  -----  \n",
      " 0   symboling          205 non-null    int64  \n",
      " 1   normalized-losses  164 non-null    float64\n",
      " 2   make               205 non-null    object \n",
      " 3   fuel-type          205 non-null    object \n",
      " 4   aspiration         205 non-null    object \n",
      " 5   num-of-doors       203 non-null    object \n",
      " 6   body-style         205 non-null    object \n",
      " 7   drive-wheels       205 non-null    object \n",
      " 8   engine-location    205 non-null    object \n",
      " 9   wheel-base         205 non-null    float64\n",
      " 10  length             205 non-null    float64\n",
      " 11  width              205 non-null    float64\n",
      " 12  height             205 non-null    float64\n",
      " 13  curb-weight        205 non-null    int64  \n",
      " 14  engine-type        205 non-null    object \n",
      " 15  num-of-cylinders   205 non-null    object \n",
      " 16  engine-size        205 non-null    int64  \n",
      " 17  fuel-system        205 non-null    object \n",
      " 18  bore               201 non-null    float64\n",
      " 19  stroke             201 non-null    float64\n",
      " 20  compression-ratio  205 non-null    float64\n",
      " 21  horsepower         203 non-null    float64\n",
      " 22  peak-rpm           203 non-null    float64\n",
      " 23  city-mpg           205 non-null    int64  \n",
      " 24  highway-mpg        205 non-null    int64  \n",
      " 25  price              201 non-null    float64\n",
      "dtypes: float64(11), int64(5), object(10)\n",
      "memory usage: 41.8+ KB\n"
     ]
    }
   ],
   "source": [
    "auto = pd.read_csv('Automobile.csv')\n",
    "auto.info()"
   ]
  },
  {
   "cell_type": "code",
   "execution_count": 6,
   "id": "0c786cf8",
   "metadata": {},
   "outputs": [
    {
     "data": {
      "text/plain": [
       "((164, 26), (37, 26))"
      ]
     },
     "execution_count": 6,
     "metadata": {},
     "output_type": "execute_result"
    }
   ],
   "source": [
    "#Price (target) has 4 missing values, since we don't want the machine to learn from missing values, we move the empty price as test data\n",
    "test_temp = auto[auto['price'].isnull()]\n",
    "automobile = auto[auto['price'].notnull()]\n",
    "#splitting data where there is no missing value in the price column\n",
    "automobile_train, automobile_test = train_test_split(automobile, test_size=0.2 - (4/205), random_state=77)\n",
    "automobile_train.shape, automobile_test.shape"
   ]
  },
  {
   "cell_type": "code",
   "execution_count": 7,
   "id": "f516f4e7",
   "metadata": {},
   "outputs": [],
   "source": [
    "#adding data with missing values in 'price' to test data\n",
    "automobile_test = pd.concat([automobile_test, test_temp])\n",
    "#save as csv\n",
    "automobile_train.to_csv(\"automobile_train.csv\", encoding='utf-8', index=False)\n",
    "automobile_test.to_csv(\"automobile_test.csv\", encoding='utf-8', index=False)"
   ]
  }
 ],
 "metadata": {
  "kernelspec": {
   "display_name": "Python 3 (ipykernel)",
   "language": "python",
   "name": "python3"
  },
  "language_info": {
   "codemirror_mode": {
    "name": "ipython",
    "version": 3
   },
   "file_extension": ".py",
   "mimetype": "text/x-python",
   "name": "python",
   "nbconvert_exporter": "python",
   "pygments_lexer": "ipython3",
   "version": "3.9.16"
  }
 },
 "nbformat": 4,
 "nbformat_minor": 5
}
